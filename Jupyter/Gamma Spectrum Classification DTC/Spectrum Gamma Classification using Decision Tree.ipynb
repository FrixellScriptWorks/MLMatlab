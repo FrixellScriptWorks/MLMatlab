{
 "cells": [
  {
   "cell_type": "code",
   "execution_count": 1,
   "metadata": {},
   "outputs": [],
   "source": [
    "# Impor pustaka dasar\n",
    "import matplotlib\n",
    "import pandas as pd\n",
    "import numpy as np\n",
    "import seaborn as sns\n",
    "\n",
    "# Impor pustaka visualisasi dan metrik\n",
    "from matplotlib import pyplot as plt\n",
    "from sklearn.model_selection import train_test_split, GridSearchCV\n",
    "from sklearn.preprocessing import LabelEncoder, StandardScaler\n",
    "from sklearn.metrics import classification_report, confusion_matrix\n",
    "from sklearn import preprocessing, svm\n",
    "\n",
    "# Impor pustaka classifier\n",
    "from sklearn.tree import DecisionTreeClassifier\n",
    "from sklearn.ensemble import RandomForestClassifier, AdaBoostClassifier\n",
    "from sklearn.svm import SVC\n",
    "from sklearn.gaussian_process import GaussianProcessClassifier\n",
    "from sklearn.gaussian_process.kernels import RBF\n",
    "from sklearn.naive_bayes import GaussianNB\n",
    "\n",
    "# Itertools buat plotting\n",
    "import itertools"
   ]
  },
  {
   "cell_type": "code",
   "execution_count": 2,
   "metadata": {},
   "outputs": [],
   "source": [
    "# Fungsi transpose kolom 'kelas' dari x menjadi y\n",
    "def preprocess_data(x, channel):\n",
    "    y = pd.read_excel(x)\n",
    "    i = 0\n",
    "    for i in range(len(y.index)):\n",
    "        y.rename(index={i: channel[i]}, inplace=True)\n",
    "        i+=1\n",
    "    y = y.T\n",
    "    y = y[1:]\n",
    "    return y"
   ]
  },
  {
   "cell_type": "code",
   "execution_count": 3,
   "metadata": {},
   "outputs": [],
   "source": [
    "# Fungsi untuk mengaplikasikan data ke bilah kategori\n",
    "def labels_to_categorical(x):\n",
    "    y = to_categorical(x)\n",
    "    return y"
   ]
  },
  {
   "cell_type": "code",
   "execution_count": 4,
   "metadata": {},
   "outputs": [],
   "source": [
    "# Fungsi normalisasi data dengan standar deviasi\n",
    "def normalize_data(x):\n",
    "    i = x.shape[1]\n",
    "    i = i-1\n",
    "    y = preprocessing.StandardScaler().fit(x).transform(x.astype(float))\n",
    "    y = y[:,:i]\n",
    "    return y"
   ]
  },
  {
   "cell_type": "code",
   "execution_count": 5,
   "metadata": {},
   "outputs": [],
   "source": [
    "# Fungsi untuk menjadikan kolom x sebuah array\n",
    "def x_to_array(x):\n",
    "    y = x.values\n",
    "    return y"
   ]
  },
  {
   "cell_type": "code",
   "execution_count": 6,
   "metadata": {},
   "outputs": [],
   "source": [
    "# Fungsi untuk membuat kelas\n",
    "def addclass(x, name):\n",
    "    x['Class'] = pd.Series(name, index=x.index)\n",
    "    return x"
   ]
  },
  {
   "cell_type": "code",
   "execution_count": 7,
   "metadata": {},
   "outputs": [],
   "source": [
    "# Fungsi untuk menggabungkan 5 array\n",
    "def mergedf5(x1, x2, x3, x4, x5):\n",
    "    y = pd.concat([x1, x2, x3, x4, x5])\n",
    "    return y"
   ]
  },
  {
   "cell_type": "code",
   "execution_count": 8,
   "metadata": {},
   "outputs": [],
   "source": [
    "# Membuat grafis matrix kekalutan\n",
    "def plot_confusion_matrix(cm, classes,\n",
    "                          normalize=False,\n",
    "                          title='Confusion matrix',\n",
    "                          cmap=plt.cm.Reds):\n",
    "    \"\"\"\n",
    "    This function prints and plots the confusion matrix.\n",
    "    Normalization can be applied by setting `normalize=True`.\n",
    "    \"\"\"\n",
    "    # Pembuatan matriks saat normalisasi 'true' atau 'false'\n",
    "    if normalize:\n",
    "        cm = cm.astype('float') / cm.sum(axis=1)[:, np.newaxis]\n",
    "        print(\"Normalized confusion matrix\")\n",
    "    else:\n",
    "        print('Confusion matrix, without normalization')\n",
    "    print(cm)\n",
    "    \n",
    "    # Pembuatan\n",
    "    plt.imshow(cm, interpolation='nearest', cmap=cmap)\n",
    "    plt.title(title)\n",
    "    plt.colorbar()\n",
    "    tick_marks = np.arange(len(classes))\n",
    "    plt.xticks(tick_marks, classes, rotation=45)\n",
    "    plt.yticks(tick_marks, classes)\n",
    "\n",
    "    fmt = '.2f' if normalize else 'd'\n",
    "    thresh = cm.max() / 2.\n",
    "    for i, j in itertools.product(range(cm.shape[0]), range(cm.shape[1])):\n",
    "        plt.text(j, i, format(cm[i, j], fmt),\n",
    "                 horizontalalignment=\"center\",\n",
    "                 color=\"white\" if cm[i, j] > thresh else \"black\")\n",
    "    # Label data\n",
    "    plt.tight_layout()\n",
    "    plt.ylabel('True Label')\n",
    "    plt.xlabel('Predicted Label')"
   ]
  },
  {
   "cell_type": "code",
   "execution_count": 9,
   "metadata": {},
   "outputs": [],
   "source": [
    "# Pembuatan nama kelas\n",
    "classes = ['60Co', '22Na', '241Am', 'Mix', '90Sr']"
   ]
  },
  {
   "cell_type": "code",
   "execution_count": 10,
   "metadata": {},
   "outputs": [],
   "source": [
    "classes = ['60Co', '22Na', '241Am', 'Mix', '90Sr']"
   ]
  },
  {
   "cell_type": "code",
   "execution_count": 11,
   "metadata": {},
   "outputs": [],
   "source": [
    "# Membuat indeks data\n",
    "kal = pd.read_excel('Co_1.xlsx')\n",
    "kal = kal.iloc[::,0]\n",
    "kal = kal.astype(str)"
   ]
  },
  {
   "cell_type": "code",
   "execution_count": 12,
   "metadata": {},
   "outputs": [
    {
     "name": "stdout",
     "output_type": "stream",
     "text": [
      "(40, 256)\n"
     ]
    }
   ],
   "source": [
    "# Memproses semua data dan mengindekskan seperti input sebelumnya\n",
    "co1 = preprocess_data('Co_1.xlsx', kal)\n",
    "co2 = preprocess_data('Co_2.xlsx', kal)\n",
    "na1 = preprocess_data('Na_1.xlsx', kal)\n",
    "na2 = preprocess_data('Na_2.xlsx', kal)\n",
    "am1 = preprocess_data('Am_1.xlsx', kal)\n",
    "am2 = preprocess_data('Am_2.xlsx', kal)\n",
    "mix1 = preprocess_data('Mix_1.xlsx', kal)\n",
    "mix2 = preprocess_data('Mix_2.xlsx', kal)\n",
    "sr1 = preprocess_data('Sr_1.xlsx', kal)\n",
    "sr2 = preprocess_data('Sr_2.xlsx', kal)\n",
    "\n",
    "# Test array length\n",
    "print(co1.shape)"
   ]
  },
  {
   "cell_type": "code",
   "execution_count": 13,
   "metadata": {},
   "outputs": [],
   "source": [
    "# Menggabungkan data yang terpisah\n",
    "co = pd.concat([co1, co2])\n",
    "na = pd.concat([na1, na2])\n",
    "am = pd.concat([am1, am2])\n",
    "mix = pd.concat([mix1, mix2])\n",
    "sr = pd.concat([sr1, sr2])"
   ]
  },
  {
   "cell_type": "code",
   "execution_count": 14,
   "metadata": {},
   "outputs": [],
   "source": [
    "# Memberikan indeks kelas pada masih-masing data\n",
    "co = addclass(co, 0)\n",
    "na = addclass(na, 1)\n",
    "am = addclass(am, 2)\n",
    "mix = addclass(mix, 3)\n",
    "sr = addclass(sr, 4)"
   ]
  },
  {
   "cell_type": "code",
   "execution_count": 15,
   "metadata": {},
   "outputs": [
    {
     "data": {
      "text/plain": [
       "(582, 257)"
      ]
     },
     "execution_count": 15,
     "metadata": {},
     "output_type": "execute_result"
    }
   ],
   "source": [
    "all_data = mergedf5(co, na, am, mix, sr)\n",
    "\n",
    "# Test length\n",
    "all_data.shape"
   ]
  },
  {
   "cell_type": "code",
   "execution_count": 16,
   "metadata": {},
   "outputs": [],
   "source": [
    "testAm = preprocess_data('Test80_Am.xlsx', kal)\n",
    "testCo = preprocess_data('Test80_Co.xlsx', kal)\n",
    "testMix = preprocess_data('Test80_Mix.xlsx', kal)\n",
    "testNa = preprocess_data('Test80_Na.xlsx', kal)\n",
    "testSr = preprocess_data('Test80_Sr.xlsx', kal)"
   ]
  },
  {
   "cell_type": "code",
   "execution_count": 17,
   "metadata": {},
   "outputs": [],
   "source": [
    "# Memberikan indeks kelas pada masih-masing data\n",
    "testCo = addclass(testCo, 0)\n",
    "testNa = addclass(testNa, 1)\n",
    "testAm = addclass(testAm, 2)\n",
    "testMix = addclass(testMix, 3)\n",
    "testSr = addclass(testSr, 4)"
   ]
  },
  {
   "cell_type": "code",
   "execution_count": 18,
   "metadata": {},
   "outputs": [
    {
     "data": {
      "text/html": [
       "<div>\n",
       "<style scoped>\n",
       "    .dataframe tbody tr th:only-of-type {\n",
       "        vertical-align: middle;\n",
       "    }\n",
       "\n",
       "    .dataframe tbody tr th {\n",
       "        vertical-align: top;\n",
       "    }\n",
       "\n",
       "    .dataframe thead th {\n",
       "        text-align: right;\n",
       "    }\n",
       "</style>\n",
       "<table border=\"1\" class=\"dataframe\">\n",
       "  <thead>\n",
       "    <tr style=\"text-align: right;\">\n",
       "      <th></th>\n",
       "      <th>-19.7</th>\n",
       "      <th>-8.7</th>\n",
       "      <th>2.3</th>\n",
       "      <th>13.2</th>\n",
       "      <th>24.2</th>\n",
       "      <th>35.2</th>\n",
       "      <th>46.2</th>\n",
       "      <th>57.1</th>\n",
       "      <th>68.1</th>\n",
       "      <th>79.1</th>\n",
       "      <th>...</th>\n",
       "      <th>2690.3</th>\n",
       "      <th>2701.3</th>\n",
       "      <th>2712.2</th>\n",
       "      <th>2723.2</th>\n",
       "      <th>2734.2</th>\n",
       "      <th>2745.2</th>\n",
       "      <th>2756.1</th>\n",
       "      <th>2767.1</th>\n",
       "      <th>2778.1</th>\n",
       "      <th>Class</th>\n",
       "    </tr>\n",
       "  </thead>\n",
       "  <tbody>\n",
       "    <tr>\n",
       "      <th>N_Co</th>\n",
       "      <td>0.0</td>\n",
       "      <td>0.0</td>\n",
       "      <td>18.0</td>\n",
       "      <td>32.0</td>\n",
       "      <td>50.0</td>\n",
       "      <td>37.0</td>\n",
       "      <td>44.0</td>\n",
       "      <td>52.0</td>\n",
       "      <td>85.0</td>\n",
       "      <td>89.0</td>\n",
       "      <td>...</td>\n",
       "      <td>0.0</td>\n",
       "      <td>0.0</td>\n",
       "      <td>0.0</td>\n",
       "      <td>0.0</td>\n",
       "      <td>0.0</td>\n",
       "      <td>0.0</td>\n",
       "      <td>0.0</td>\n",
       "      <td>0.0</td>\n",
       "      <td>10.0</td>\n",
       "      <td>0</td>\n",
       "    </tr>\n",
       "    <tr>\n",
       "      <th>N_Na</th>\n",
       "      <td>0.0</td>\n",
       "      <td>0.0</td>\n",
       "      <td>14.0</td>\n",
       "      <td>15.0</td>\n",
       "      <td>17.0</td>\n",
       "      <td>22.0</td>\n",
       "      <td>20.0</td>\n",
       "      <td>40.0</td>\n",
       "      <td>32.0</td>\n",
       "      <td>50.0</td>\n",
       "      <td>...</td>\n",
       "      <td>0.0</td>\n",
       "      <td>0.0</td>\n",
       "      <td>0.0</td>\n",
       "      <td>0.0</td>\n",
       "      <td>0.0</td>\n",
       "      <td>0.0</td>\n",
       "      <td>0.0</td>\n",
       "      <td>0.0</td>\n",
       "      <td>9.0</td>\n",
       "      <td>1</td>\n",
       "    </tr>\n",
       "    <tr>\n",
       "      <th>N_Am</th>\n",
       "      <td>0.0</td>\n",
       "      <td>13.0</td>\n",
       "      <td>510.0</td>\n",
       "      <td>722.0</td>\n",
       "      <td>330.0</td>\n",
       "      <td>122.0</td>\n",
       "      <td>846.0</td>\n",
       "      <td>2930.0</td>\n",
       "      <td>2177.0</td>\n",
       "      <td>433.0</td>\n",
       "      <td>...</td>\n",
       "      <td>0.0</td>\n",
       "      <td>0.0</td>\n",
       "      <td>0.0</td>\n",
       "      <td>0.0</td>\n",
       "      <td>0.0</td>\n",
       "      <td>0.0</td>\n",
       "      <td>0.0</td>\n",
       "      <td>0.0</td>\n",
       "      <td>14.0</td>\n",
       "      <td>2</td>\n",
       "    </tr>\n",
       "    <tr>\n",
       "      <th>N_Mix</th>\n",
       "      <td>0.0</td>\n",
       "      <td>13.0</td>\n",
       "      <td>312.0</td>\n",
       "      <td>455.0</td>\n",
       "      <td>529.0</td>\n",
       "      <td>543.0</td>\n",
       "      <td>616.0</td>\n",
       "      <td>753.0</td>\n",
       "      <td>828.0</td>\n",
       "      <td>896.0</td>\n",
       "      <td>...</td>\n",
       "      <td>0.0</td>\n",
       "      <td>0.0</td>\n",
       "      <td>0.0</td>\n",
       "      <td>0.0</td>\n",
       "      <td>0.0</td>\n",
       "      <td>0.0</td>\n",
       "      <td>0.0</td>\n",
       "      <td>0.0</td>\n",
       "      <td>11.0</td>\n",
       "      <td>3</td>\n",
       "    </tr>\n",
       "    <tr>\n",
       "      <th>N_Sr</th>\n",
       "      <td>0.0</td>\n",
       "      <td>1.0</td>\n",
       "      <td>121.0</td>\n",
       "      <td>164.0</td>\n",
       "      <td>131.0</td>\n",
       "      <td>121.0</td>\n",
       "      <td>142.0</td>\n",
       "      <td>151.0</td>\n",
       "      <td>194.0</td>\n",
       "      <td>221.0</td>\n",
       "      <td>...</td>\n",
       "      <td>0.0</td>\n",
       "      <td>0.0</td>\n",
       "      <td>0.0</td>\n",
       "      <td>0.0</td>\n",
       "      <td>0.0</td>\n",
       "      <td>0.0</td>\n",
       "      <td>0.0</td>\n",
       "      <td>0.0</td>\n",
       "      <td>13.0</td>\n",
       "      <td>4</td>\n",
       "    </tr>\n",
       "    <tr>\n",
       "      <th>N_Co</th>\n",
       "      <td>0.0</td>\n",
       "      <td>2.0</td>\n",
       "      <td>37.0</td>\n",
       "      <td>64.0</td>\n",
       "      <td>76.0</td>\n",
       "      <td>82.0</td>\n",
       "      <td>103.0</td>\n",
       "      <td>111.0</td>\n",
       "      <td>133.0</td>\n",
       "      <td>187.0</td>\n",
       "      <td>...</td>\n",
       "      <td>0.0</td>\n",
       "      <td>0.0</td>\n",
       "      <td>1.0</td>\n",
       "      <td>0.0</td>\n",
       "      <td>0.0</td>\n",
       "      <td>0.0</td>\n",
       "      <td>0.0</td>\n",
       "      <td>0.0</td>\n",
       "      <td>29.0</td>\n",
       "      <td>0</td>\n",
       "    </tr>\n",
       "    <tr>\n",
       "      <th>N_Na</th>\n",
       "      <td>0.0</td>\n",
       "      <td>2.0</td>\n",
       "      <td>27.0</td>\n",
       "      <td>31.0</td>\n",
       "      <td>33.0</td>\n",
       "      <td>37.0</td>\n",
       "      <td>45.0</td>\n",
       "      <td>50.0</td>\n",
       "      <td>68.0</td>\n",
       "      <td>96.0</td>\n",
       "      <td>...</td>\n",
       "      <td>0.0</td>\n",
       "      <td>0.0</td>\n",
       "      <td>0.0</td>\n",
       "      <td>0.0</td>\n",
       "      <td>0.0</td>\n",
       "      <td>0.0</td>\n",
       "      <td>1.0</td>\n",
       "      <td>1.0</td>\n",
       "      <td>21.0</td>\n",
       "      <td>1</td>\n",
       "    </tr>\n",
       "    <tr>\n",
       "      <th>N_Am</th>\n",
       "      <td>0.0</td>\n",
       "      <td>26.0</td>\n",
       "      <td>1039.0</td>\n",
       "      <td>1499.0</td>\n",
       "      <td>786.0</td>\n",
       "      <td>261.0</td>\n",
       "      <td>1751.0</td>\n",
       "      <td>5855.0</td>\n",
       "      <td>4471.0</td>\n",
       "      <td>853.0</td>\n",
       "      <td>...</td>\n",
       "      <td>0.0</td>\n",
       "      <td>0.0</td>\n",
       "      <td>0.0</td>\n",
       "      <td>0.0</td>\n",
       "      <td>0.0</td>\n",
       "      <td>0.0</td>\n",
       "      <td>0.0</td>\n",
       "      <td>0.0</td>\n",
       "      <td>25.0</td>\n",
       "      <td>2</td>\n",
       "    </tr>\n",
       "    <tr>\n",
       "      <th>N_Mix</th>\n",
       "      <td>0.0</td>\n",
       "      <td>42.0</td>\n",
       "      <td>696.0</td>\n",
       "      <td>950.0</td>\n",
       "      <td>981.0</td>\n",
       "      <td>1120.0</td>\n",
       "      <td>1243.0</td>\n",
       "      <td>1473.0</td>\n",
       "      <td>1660.0</td>\n",
       "      <td>1790.0</td>\n",
       "      <td>...</td>\n",
       "      <td>0.0</td>\n",
       "      <td>0.0</td>\n",
       "      <td>0.0</td>\n",
       "      <td>0.0</td>\n",
       "      <td>0.0</td>\n",
       "      <td>0.0</td>\n",
       "      <td>0.0</td>\n",
       "      <td>0.0</td>\n",
       "      <td>26.0</td>\n",
       "      <td>3</td>\n",
       "    </tr>\n",
       "    <tr>\n",
       "      <th>N_Sr</th>\n",
       "      <td>0.0</td>\n",
       "      <td>7.0</td>\n",
       "      <td>221.0</td>\n",
       "      <td>344.0</td>\n",
       "      <td>269.0</td>\n",
       "      <td>275.0</td>\n",
       "      <td>303.0</td>\n",
       "      <td>282.0</td>\n",
       "      <td>379.0</td>\n",
       "      <td>401.0</td>\n",
       "      <td>...</td>\n",
       "      <td>1.0</td>\n",
       "      <td>0.0</td>\n",
       "      <td>0.0</td>\n",
       "      <td>0.0</td>\n",
       "      <td>0.0</td>\n",
       "      <td>0.0</td>\n",
       "      <td>0.0</td>\n",
       "      <td>0.0</td>\n",
       "      <td>29.0</td>\n",
       "      <td>4</td>\n",
       "    </tr>\n",
       "  </tbody>\n",
       "</table>\n",
       "<p>10 rows × 257 columns</p>\n",
       "</div>"
      ],
      "text/plain": [
       "       -19.7  -8.7     2.3    13.2   24.2    35.2    46.2    57.1    68.1  \\\n",
       "N_Co     0.0   0.0    18.0    32.0   50.0    37.0    44.0    52.0    85.0   \n",
       "N_Na     0.0   0.0    14.0    15.0   17.0    22.0    20.0    40.0    32.0   \n",
       "N_Am     0.0  13.0   510.0   722.0  330.0   122.0   846.0  2930.0  2177.0   \n",
       "N_Mix    0.0  13.0   312.0   455.0  529.0   543.0   616.0   753.0   828.0   \n",
       "N_Sr     0.0   1.0   121.0   164.0  131.0   121.0   142.0   151.0   194.0   \n",
       "N_Co     0.0   2.0    37.0    64.0   76.0    82.0   103.0   111.0   133.0   \n",
       "N_Na     0.0   2.0    27.0    31.0   33.0    37.0    45.0    50.0    68.0   \n",
       "N_Am     0.0  26.0  1039.0  1499.0  786.0   261.0  1751.0  5855.0  4471.0   \n",
       "N_Mix    0.0  42.0   696.0   950.0  981.0  1120.0  1243.0  1473.0  1660.0   \n",
       "N_Sr     0.0   7.0   221.0   344.0  269.0   275.0   303.0   282.0   379.0   \n",
       "\n",
       "         79.1  ...  2690.3  2701.3  2712.2  2723.2  2734.2  2745.2  2756.1  \\\n",
       "N_Co     89.0  ...     0.0     0.0     0.0     0.0     0.0     0.0     0.0   \n",
       "N_Na     50.0  ...     0.0     0.0     0.0     0.0     0.0     0.0     0.0   \n",
       "N_Am    433.0  ...     0.0     0.0     0.0     0.0     0.0     0.0     0.0   \n",
       "N_Mix   896.0  ...     0.0     0.0     0.0     0.0     0.0     0.0     0.0   \n",
       "N_Sr    221.0  ...     0.0     0.0     0.0     0.0     0.0     0.0     0.0   \n",
       "N_Co    187.0  ...     0.0     0.0     1.0     0.0     0.0     0.0     0.0   \n",
       "N_Na     96.0  ...     0.0     0.0     0.0     0.0     0.0     0.0     1.0   \n",
       "N_Am    853.0  ...     0.0     0.0     0.0     0.0     0.0     0.0     0.0   \n",
       "N_Mix  1790.0  ...     0.0     0.0     0.0     0.0     0.0     0.0     0.0   \n",
       "N_Sr    401.0  ...     1.0     0.0     0.0     0.0     0.0     0.0     0.0   \n",
       "\n",
       "       2767.1  2778.1  Class  \n",
       "N_Co      0.0    10.0      0  \n",
       "N_Na      0.0     9.0      1  \n",
       "N_Am      0.0    14.0      2  \n",
       "N_Mix     0.0    11.0      3  \n",
       "N_Sr      0.0    13.0      4  \n",
       "N_Co      0.0    29.0      0  \n",
       "N_Na      1.0    21.0      1  \n",
       "N_Am      0.0    25.0      2  \n",
       "N_Mix     0.0    26.0      3  \n",
       "N_Sr      0.0    29.0      4  \n",
       "\n",
       "[10 rows x 257 columns]"
      ]
     },
     "execution_count": 18,
     "metadata": {},
     "output_type": "execute_result"
    }
   ],
   "source": [
    "test = mergedf5(testCo, testNa, testAm, testMix, testSr)\n",
    "\n",
    "# Test Length\n",
    "test.shape"
   ]
  },
  {
   "cell_type": "code",
   "execution_count": 19,
   "metadata": {},
   "outputs": [
    {
     "data": {
      "text/plain": [
       "(582, 256)"
      ]
     },
     "execution_count": 19,
     "metadata": {},
     "output_type": "execute_result"
    }
   ],
   "source": [
    "# Mengubah data training menjadi array dan menormalisasikannya\n",
    "X = x_to_array(all_data)\n",
    "X = normalize_data(X)\n",
    "\n",
    "# Test Length\n",
    "X.shape"
   ]
  },
  {
   "cell_type": "code",
   "execution_count": 20,
   "metadata": {},
   "outputs": [
    {
     "data": {
      "text/plain": [
       "(582,)"
      ]
     },
     "execution_count": 20,
     "metadata": {},
     "output_type": "execute_result"
    }
   ],
   "source": [
    "# Sama seperti sebelumnya, tapi ini kolom kelasnya doang\n",
    "y = all_data['Class']\n",
    "y = x_to_array(y)\n",
    "\n",
    "# Test Length\n",
    "y.shape"
   ]
  },
  {
   "cell_type": "code",
   "execution_count": 21,
   "metadata": {},
   "outputs": [
    {
     "name": "stdout",
     "output_type": "stream",
     "text": [
      "(5, 256)\n",
      "(5, 256)\n",
      "(10, 256)\n"
     ]
    }
   ],
   "source": [
    "# Masih sama, ini utuk data test\n",
    "X_test = x_to_array(test)\n",
    "X_test = normalize_data(X_test)\n",
    "\n",
    "# Test Length\n",
    "print(X_test.shape)"
   ]
  },
  {
   "cell_type": "code",
   "execution_count": 23,
   "metadata": {},
   "outputs": [
    {
     "name": "stdout",
     "output_type": "stream",
     "text": [
      "(5,)\n",
      "(5,)\n",
      "(10,)\n"
     ]
    }
   ],
   "source": [
    "y_test = test['Class']\n",
    "y_test = x_to_array(y_test)\n",
    "\n",
    "# Test Length\n",
    "print(y_test.shape)"
   ]
  },
  {
   "cell_type": "code",
   "execution_count": 24,
   "metadata": {},
   "outputs": [
    {
     "name": "stdout",
     "output_type": "stream",
     "text": [
      "Train set: (523, 256) (523,)\n",
      "Val set: (59, 256) (59,)\n"
     ]
    }
   ],
   "source": [
    "# Memisahkan data training menjadi dua bagian untuk validasi\n",
    "X_train, X_val, y_train, y_val = train_test_split( X, y, test_size=0.1, random_state=4) #Data training 90% dan validasi 10%\n",
    "\n",
    "# Test Length\n",
    "print ('Train set:', X_train.shape,  y_train.shape)\n",
    "print ('Val set:', X_val.shape,  y_val.shape)"
   ]
  },
  {
   "cell_type": "code",
   "execution_count": 39,
   "metadata": {},
   "outputs": [
    {
     "data": {
      "text/plain": [
       "SVC(C=1.0, cache_size=200, class_weight=None, coef0=0.0,\n",
       "  decision_function_shape='ovr', degree=3, gamma='auto', kernel='rbf',\n",
       "  max_iter=-1, probability=False, random_state=None, shrinking=True,\n",
       "  tol=0.001, verbose=False)"
      ]
     },
     "execution_count": 39,
     "metadata": {},
     "output_type": "execute_result"
    }
   ],
   "source": [
    "svclassifier = SVC(kernel = 'rbf', gamma = 'auto')\n",
    "svclassifier.fit(X_train, y_train)"
   ]
  },
  {
   "cell_type": "code",
   "execution_count": 28,
   "metadata": {},
   "outputs": [
    {
     "data": {
      "text/plain": [
       "GaussianProcessClassifier(copy_X_train=True,\n",
       "             kernel=1**2 * RBF(length_scale=1), max_iter_predict=100,\n",
       "             multi_class='one_vs_rest', n_jobs=None,\n",
       "             n_restarts_optimizer=1, optimizer='fmin_l_bfgs_b',\n",
       "             random_state=0, warm_start=False)"
      ]
     },
     "execution_count": 28,
     "metadata": {},
     "output_type": "execute_result"
    }
   ],
   "source": [
    "from sklearn.gaussian_process.kernels import RBF\n",
    "gpcclassifier = GaussianProcessClassifier(kernel = 1.0 * RBF(1.0),n_restarts_optimizer = 1, random_state = 0)\n",
    "gpcclassifier.fit(X_train, y_train)"
   ]
  },
  {
   "cell_type": "code",
   "execution_count": 40,
   "metadata": {},
   "outputs": [],
   "source": [
    "y_pred = svclassifier.predict(X_val)\n",
    "y_pred1 = svclassifier.predict(X_test45)\n",
    "y_pred2 = svclassifier.predict(X_test90)\n",
    "y_pred3 = svclassifier.predict(X_test)\n",
    "y_gpcpred = gpcclassifier.predict(X_val)"
   ]
  },
  {
   "cell_type": "code",
   "execution_count": 41,
   "metadata": {},
   "outputs": [],
   "source": [
    "cm = confusion_matrix(y_val, y_pred)\n",
    "cm1 = confusion_matrix(y_test_45, y_pred1)\n",
    "cm2 = confusion_matrix(y_test_90, y_pred2)\n",
    "cm3 = confusion_matrix(y_test_, y_pred3)\n",
    "cmgpc1 = confusion_matrix(y_val, y_gpcpred)"
   ]
  },
  {
   "cell_type": "code",
   "execution_count": 42,
   "metadata": {},
   "outputs": [
    {
     "name": "stdout",
     "output_type": "stream",
     "text": [
      "Accuracy 45: 100.0%\n",
      "Accuracy 90: 100.0%\n",
      "Accuracy Overall: 100.0%\n",
      "Accuracy Data Validasi: 100.0%\n",
      "Accuracy Data Validasi GPC: 50.0%\n"
     ]
    },
    {
     "name": "stderr",
     "output_type": "stream",
     "text": [
      "C:\\Users\\Asus\\Anaconda3\\lib\\site-packages\\sklearn\\metrics\\classification.py:1143: UndefinedMetricWarning: Precision and F-score are ill-defined and being set to 0.0 in labels with no predicted samples.\n",
      "  'precision', 'predicted', average, warn_for)\n",
      "C:\\Users\\Asus\\Anaconda3\\lib\\site-packages\\sklearn\\metrics\\classification.py:1143: UndefinedMetricWarning: Precision and F-score are ill-defined and being set to 0.0 in labels with no predicted samples.\n",
      "  'precision', 'predicted', average, warn_for)\n",
      "C:\\Users\\Asus\\Anaconda3\\lib\\site-packages\\sklearn\\metrics\\classification.py:1143: UndefinedMetricWarning: Precision and F-score are ill-defined and being set to 0.0 in labels with no predicted samples.\n",
      "  'precision', 'predicted', average, warn_for)\n"
     ]
    }
   ],
   "source": [
    "cr = classification_report(y_val, y_pred)\n",
    "cr1 = classification_report(y_test_45, y_pred1)\n",
    "cr2 = classification_report(y_test_90, y_pred2)\n",
    "cr3 = classification_report(y_test_, y_pred3)\n",
    "crgpc1 = classification_report(y_val, y_gpcpred)\n",
    "print(\"Accuracy 45: {}%\".format(svclassifier.score(X_test45, y_test_45) * 100 ))\n",
    "print(\"Accuracy 90: {}%\".format(svclassifier.score(X_test90, y_test_90) * 100 ))\n",
    "print(\"Accuracy Overall: {}%\".format(svclassifier.score(X_test, y_test_) * 100 ))\n",
    "print(\"Accuracy Data Validasi: {}%\".format(svclassifier.score(X_val, y_val) * 100 ))\n",
    "print(\"Accuracy Data Validasi GPC: {}%\".format(gpcclassifier.score(X_test, y_test_) * 100 ))"
   ]
  },
  {
   "cell_type": "code",
   "execution_count": 43,
   "metadata": {},
   "outputs": [
    {
     "name": "stdout",
     "output_type": "stream",
     "text": [
      "Confusion matrix, without normalization\n",
      "[[10  0  0  0  0]\n",
      " [ 0 10  0  0  0]\n",
      " [ 0  0 13  0  0]\n",
      " [ 0  0  0 13  0]\n",
      " [ 0  0  0  0 13]]\n",
      "              precision    recall  f1-score   support\n",
      "\n",
      "           0       1.00      1.00      1.00        10\n",
      "           1       1.00      1.00      1.00        10\n",
      "           2       1.00      1.00      1.00        13\n",
      "           3       1.00      1.00      1.00        13\n",
      "           4       1.00      1.00      1.00        13\n",
      "\n",
      "   micro avg       1.00      1.00      1.00        59\n",
      "   macro avg       1.00      1.00      1.00        59\n",
      "weighted avg       1.00      1.00      1.00        59\n",
      "\n"
     ]
    },
    {
     "data": {
      "image/png": "[encoded data removed]",
      "text/plain": [
       "<Figure size 432x288 with 2 Axes>"
      ]
     },
     "metadata": {
      "needs_background": "light"
     },
     "output_type": "display_data"
    }
   ],
   "source": [
    "plot_confusion_matrix(cm, classes = classes)\n",
    "print(cr)"
   ]
  },
  {
   "cell_type": "code",
   "execution_count": 38,
   "metadata": {},
   "outputs": [
    {
     "name": "stdout",
     "output_type": "stream",
     "text": [
      "Confusion matrix, without normalization\n",
      "[[1 0 0 0 0]\n",
      " [0 1 0 0 0]\n",
      " [0 0 1 0 0]\n",
      " [0 0 0 1 0]\n",
      " [0 1 0 0 0]]\n",
      "Ini yang 45 s.\n",
      "              precision    recall  f1-score   support\n",
      "\n",
      "           0       1.00      1.00      1.00         1\n",
      "           1       0.50      1.00      0.67         1\n",
      "           2       1.00      1.00      1.00         1\n",
      "           3       1.00      1.00      1.00         1\n",
      "           4       0.00      0.00      0.00         1\n",
      "\n",
      "   micro avg       0.80      0.80      0.80         5\n",
      "   macro avg       0.70      0.80      0.73         5\n",
      "weighted avg       0.70      0.80      0.73         5\n",
      "\n"
     ]
    },
    {
     "data": {
      "image/png": "[encoded data removed]",
      "text/plain": [
       "<Figure size 432x288 with 2 Axes>"
      ]
     },
     "metadata": {
      "needs_background": "light"
     },
     "output_type": "display_data"
    }
   ],
   "source": [
    "plot_confusion_matrix(cm1, classes = classes)\n",
    "print(\"Ini yang 45 s.\")\n",
    "print(cr1)"
   ]
  },
  {
   "cell_type": "code",
   "execution_count": 34,
   "metadata": {},
   "outputs": [
    {
     "name": "stdout",
     "output_type": "stream",
     "text": [
      "Confusion matrix, without normalization\n",
      "[[1 0 0 0 0]\n",
      " [0 1 0 0 0]\n",
      " [0 0 1 0 0]\n",
      " [0 0 0 1 0]\n",
      " [0 1 0 0 0]]\n",
      "Ini yang 90 s.\n",
      "              precision    recall  f1-score   support\n",
      "\n",
      "           0       1.00      1.00      1.00         1\n",
      "           1       0.50      1.00      0.67         1\n",
      "           2       1.00      1.00      1.00         1\n",
      "           3       1.00      1.00      1.00         1\n",
      "           4       0.00      0.00      0.00         1\n",
      "\n",
      "   micro avg       0.80      0.80      0.80         5\n",
      "   macro avg       0.70      0.80      0.73         5\n",
      "weighted avg       0.70      0.80      0.73         5\n",
      "\n"
     ]
    },
    {
     "data": {
      "image/png": "[encoded data removed]",
      "text/plain": [
       "<Figure size 432x288 with 2 Axes>"
      ]
     },
     "metadata": {
      "needs_background": "light"
     },
     "output_type": "display_data"
    }
   ],
   "source": [
    "plot_confusion_matrix(cm2, classes = classes)\n",
    "print(\"Ini yang 90 s.\")\n",
    "print(cr2)"
   ]
  },
  {
   "cell_type": "code",
   "execution_count": 35,
   "metadata": {},
   "outputs": [
    {
     "name": "stdout",
     "output_type": "stream",
     "text": [
      "Confusion matrix, without normalization\n",
      "[[1 1 0 0 0]\n",
      " [0 2 0 0 0]\n",
      " [0 1 1 0 0]\n",
      " [0 0 0 2 0]\n",
      " [0 2 0 0 0]]\n",
      "Ini Total.\n",
      "              precision    recall  f1-score   support\n",
      "\n",
      "           0       1.00      0.50      0.67         2\n",
      "           1       0.33      1.00      0.50         2\n",
      "           2       1.00      0.50      0.67         2\n",
      "           3       1.00      1.00      1.00         2\n",
      "           4       0.00      0.00      0.00         2\n",
      "\n",
      "   micro avg       0.60      0.60      0.60        10\n",
      "   macro avg       0.67      0.60      0.57        10\n",
      "weighted avg       0.67      0.60      0.57        10\n",
      "\n"
     ]
    },
    {
     "data": {
      "image/png": "[encoded data removed]",
      "text/plain": [
       "<Figure size 432x288 with 2 Axes>"
      ]
     },
     "metadata": {
      "needs_background": "light"
     },
     "output_type": "display_data"
    }
   ],
   "source": [
    "plot_confusion_matrix(cm3, classes = classes)\n",
    "print(\"Ini Total.\")\n",
    "print(cr3)"
   ]
  },
  {
   "cell_type": "code",
   "execution_count": 36,
   "metadata": {},
   "outputs": [
    {
     "name": "stdout",
     "output_type": "stream",
     "text": [
      "Confusion matrix, without normalization\n",
      "[[10  0  0  0  0]\n",
      " [ 0  4  0  6  0]\n",
      " [ 0  7  0  6  0]\n",
      " [ 0  0  0 13  0]\n",
      " [ 4  8  0  1  0]]\n",
      "Ini Total.\n",
      "              precision    recall  f1-score   support\n",
      "\n",
      "           0       0.71      1.00      0.83        10\n",
      "           1       0.21      0.40      0.28        10\n",
      "           2       0.00      0.00      0.00        13\n",
      "           3       0.50      1.00      0.67        13\n",
      "           4       0.00      0.00      0.00        13\n",
      "\n",
      "   micro avg       0.46      0.46      0.46        59\n",
      "   macro avg       0.28      0.48      0.36        59\n",
      "weighted avg       0.27      0.46      0.33        59\n",
      "\n"
     ]
    },
    {
     "data": {
      "image/png": "[encoded data removed]",
      "text/plain": [
       "<Figure size 432x288 with 2 Axes>"
      ]
     },
     "metadata": {
      "needs_background": "light"
     },
     "output_type": "display_data"
    }
   ],
   "source": [
    "plot_confusion_matrix(cmgpc1, classes = classes)\n",
    "print(\"Ini Total.\")\n",
    "print(crgpc1)"
   ]
  },
  {
   "cell_type": "code",
   "execution_count": null,
   "metadata": {},
   "outputs": [],
   "source": []
  }
 ],
 "metadata": {
  "kernelspec": {
   "display_name": "Python 3",
   "language": "python",
   "name": "python3"
  },
  "language_info": {
   "codemirror_mode": {
    "name": "ipython",
    "version": 3
   },
   "file_extension": ".py",
   "mimetype": "text/x-python",
   "name": "python",
   "nbconvert_exporter": "python",
   "pygments_lexer": "ipython3",
   "version": "3.7.3"
  }
 },
 "nbformat": 4,
 "nbformat_minor": 2
}
