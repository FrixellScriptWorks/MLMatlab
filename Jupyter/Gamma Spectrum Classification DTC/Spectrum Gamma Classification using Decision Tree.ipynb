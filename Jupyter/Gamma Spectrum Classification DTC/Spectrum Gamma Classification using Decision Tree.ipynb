{
 "cells": [
  {
   "cell_type": "code",
   "execution_count": null,
   "metadata": {},
   "outputs": [],
   "source": [
    "# Impor pustaka dasar\n",
    "import matplotlib\n",
    "import pandas as pd\n",
    "import numpy as np\n",
    "import seaborn as sns\n",
    "\n",
    "# Impor pustaka visualisasi dan metrik\n",
    "from matplotlib import pyplot as plt\n",
    "from sklearn.model_selection import train_test_split, GridSearchCV\n",
    "from sklearn.preprocessing import LabelEncoder, StandardScaler\n",
    "from sklearn.metrics import classification_report, confusion_matrix\n",
    "from sklearn import preprocessing, svm\n",
    "\n",
    "# Impor pustaka classifier\n",
    "from sklearn.tree import DecisionTreeClassifier\n",
    "from sklearn.ensemble import RandomForestClassifier, AdaBoostClassifier\n",
    "from sklearn.svm import SVC\n",
    "from sklearn.gaussian_process import GaussianProcessClassifier\n",
    "from sklearn.gaussian_process.kernels import RBF\n",
    "from sklearn.naive_bayes import GaussianNB\n",
    "\n",
    "# Itertools buat plotting\n",
    "import itertools"
   ]
  },
  {
   "cell_type": "code",
   "execution_count": null,
   "metadata": {},
   "outputs": [],
   "source": [
    "# Fungsi transpose kolom 'kelas' dari x menjadi y\n",
    "def preprocess_data(x, channel):\n",
    "    y = pd.read_excel(x)\n",
    "    i = 0\n",
    "    for i in range(len(y.index)):\n",
    "        y.rename(index={i: channel[i]}, inplace=True)\n",
    "        i+=1\n",
    "    y = y.T\n",
    "    y = y[1:]\n",
    "    return y"
   ]
  },
  {
   "cell_type": "code",
   "execution_count": null,
   "metadata": {},
   "outputs": [],
   "source": [
    "# Fungsi untuk mengaplikasikan data ke bilah kategori\n",
    "def labels_to_categorical(x):\n",
    "    y = to_categorical(x)\n",
    "    return y"
   ]
  },
  {
   "cell_type": "code",
   "execution_count": null,
   "metadata": {},
   "outputs": [],
   "source": [
    "# Fungsi normalisasi data dengan standar deviasi\n",
    "def normalize_data(x):\n",
    "    i = x.shape[1]\n",
    "    i = i-1\n",
    "    y = preprocessing.StandardScaler().fit(x).transform(x.astype(float))\n",
    "    y = y[:,:i]\n",
    "    return y"
   ]
  },
  {
   "cell_type": "code",
   "execution_count": null,
   "metadata": {},
   "outputs": [],
   "source": [
    "# Fungsi untuk menjadikan kolom x sebuah array\n",
    "def x_to_array(x):\n",
    "    y = x.values\n",
    "    return y"
   ]
  },
  {
   "cell_type": "code",
   "execution_count": null,
   "metadata": {},
   "outputs": [],
   "source": [
    "# Fungsi untuk membuat kelas\n",
    "def addclass(x, name):\n",
    "    x['Class'] = pd.Series(name, index=x.index)\n",
    "    return x"
   ]
  },
  {
   "cell_type": "code",
   "execution_count": null,
   "metadata": {},
   "outputs": [],
   "source": [
    "# Fungsi untuk menggabungkan 5 array\n",
    "def mergedf5(x1, x2, x3, x4, x5):\n",
    "    y = pd.concat([x1, x2, x3, x4, x5])\n",
    "    return y"
   ]
  },
  {
   "cell_type": "code",
   "execution_count": null,
   "metadata": {},
   "outputs": [],
   "source": [
    "# Membuat grafis matrix kekalutan\n",
    "def plot_confusion_matrix(cm, classes,\n",
    "                          normalize=False,\n",
    "                          title='Confusion matrix',\n",
    "                          cmap=plt.cm.Reds):\n",
    "    \"\"\"\n",
    "    This function prints and plots the confusion matrix.\n",
    "    Normalization can be applied by setting `normalize=True`.\n",
    "    \"\"\"\n",
    "    # Pembuatan matriks saat normalisasi 'true' atau 'false'\n",
    "    if normalize:\n",
    "        cm = cm.astype('float') / cm.sum(axis=1)[:, np.newaxis]\n",
    "        print(\"Normalized confusion matrix\")\n",
    "    else:\n",
    "        print('Confusion matrix, without normalization')\n",
    "    print(cm)\n",
    "    \n",
    "    # Pembuatan\n",
    "    plt.imshow(cm, interpolation='nearest', cmap=cmap)\n",
    "    plt.title(title)\n",
    "    plt.colorbar()\n",
    "    tick_marks = np.arange(len(classes))\n",
    "    plt.xticks(tick_marks, classes, rotation=45)\n",
    "    plt.yticks(tick_marks, classes)\n",
    "\n",
    "    fmt = '.2f' if normalize else 'd'\n",
    "    thresh = cm.max() / 2.\n",
    "    for i, j in itertools.product(range(cm.shape[0]), range(cm.shape[1])):\n",
    "        plt.text(j, i, format(cm[i, j], fmt),\n",
    "                 horizontalalignment=\"center\",\n",
    "                 color=\"white\" if cm[i, j] > thresh else \"black\")\n",
    "    # Label data\n",
    "    plt.tight_layout()\n",
    "    plt.ylabel('True Label')\n",
    "    plt.xlabel('Predicted Label')"
   ]
  },
  {
   "cell_type": "code",
   "execution_count": null,
   "metadata": {},
   "outputs": [],
   "source": [
    "# Pembuatan nama kelas\n",
    "classes = ['60Co', '22Na', '241Am', 'Mix', '90Sr']"
   ]
  },
  {
   "cell_type": "code",
   "execution_count": null,
   "metadata": {},
   "outputs": [],
   "source": [
    "classes = ['60Co', '22Na', '241Am', 'Mix', '90Sr']"
   ]
  },
  {
   "cell_type": "code",
   "execution_count": null,
   "metadata": {},
   "outputs": [],
   "source": [
    "# Membuat indeks data\n",
    "kal = pd.read_excel('Co_1.xlsx')\n",
    "kal = kal.iloc[::,0]\n",
    "kal = kal.astype(str)"
   ]
  },
  {
   "cell_type": "code",
   "execution_count": null,
   "metadata": {},
   "outputs": [],
   "source": [
    "# Memproses semua data dan mengindekskan seperti input sebelumnya\n",
    "co1 = preprocess_data('Co_1.xlsx', kal)\n",
    "co2 = preprocess_data('Co_2.xlsx', kal)\n",
    "na1 = preprocess_data('Na_1.xlsx', kal)\n",
    "na2 = preprocess_data('Na_2.xlsx', kal)\n",
    "am1 = preprocess_data('Am_1.xlsx', kal)\n",
    "am2 = preprocess_data('Am_2.xlsx', kal)\n",
    "mix1 = preprocess_data('Mix_1.xlsx', kal)\n",
    "mix2 = preprocess_data('Mix_2.xlsx', kal)\n",
    "sr1 = preprocess_data('Sr_1.xlsx', kal)\n",
    "sr2 = preprocess_data('Sr_2.xlsx', kal)\n",
    "\n",
    "# Test array length\n",
    "print(co1.shape)"
   ]
  },
  {
   "cell_type": "code",
   "execution_count": null,
   "metadata": {},
   "outputs": [],
   "source": [
    "# Menggabungkan data yang terpisah\n",
    "co = pd.concat([co1, co2])\n",
    "na = pd.concat([na1, na2])\n",
    "am = pd.concat([am1, am2])\n",
    "mix = pd.concat([mix1, mix2])\n",
    "sr = pd.concat([sr1, sr2])"
   ]
  },
  {
   "cell_type": "code",
   "execution_count": null,
   "metadata": {},
   "outputs": [],
   "source": [
    "# Memberikan indeks kelas pada masih-masing data\n",
    "co = addclass(co, 0)\n",
    "na = addclass(na, 1)\n",
    "am = addclass(am, 2)\n",
    "mix = addclass(mix, 3)\n",
    "sr = addclass(sr, 4)"
   ]
  },
  {
   "cell_type": "code",
   "execution_count": null,
   "metadata": {},
   "outputs": [],
   "source": [
    "all_data = mergedf5(co, na, am, mix, sr)\n",
    "\n",
    "# Test length\n",
    "all_data.shape"
   ]
  },
  {
   "cell_type": "code",
   "execution_count": null,
   "metadata": {},
   "outputs": [],
   "source": [
    "testAm = preprocess_data('Test80_Am.xlsx', kal)\n",
    "testCo = preprocess_data('Test80_Co.xlsx', kal)\n",
    "testMix = preprocess_data('Test80_Mix.xlsx', kal)\n",
    "testNa = preprocess_data('Test80_Na.xlsx', kal)\n",
    "testSr = preprocess_data('Test80_Sr.xlsx', kal)"
   ]
  },
  {
   "cell_type": "code",
   "execution_count": null,
   "metadata": {},
   "outputs": [],
   "source": [
    "# Memberikan indeks kelas pada masih-masing data\n",
    "testCo = addclass(testCo, 0)\n",
    "testNa = addclass(testNa, 1)\n",
    "testAm = addclass(testAm, 2)\n",
    "testMix = addclass(testMix, 3)\n",
    "testSr = addclass(testSr, 4)"
   ]
  },
  {
   "cell_type": "code",
   "execution_count": null,
   "metadata": {},
   "outputs": [],
   "source": [
    "test = mergedf5(testCo, testNa, testAm, testMix, testSr)\n",
    "\n",
    "# Test Length\n",
    "test.shape"
   ]
  },
  {
   "cell_type": "code",
   "execution_count": null,
   "metadata": {},
   "outputs": [],
   "source": [
    "# Mengubah data training menjadi array dan menormalisasikannya\n",
    "X = x_to_array(all_data)\n",
    "X = normalize_data(X)\n",
    "\n",
    "# Test Length\n",
    "X.shape"
   ]
  },
  {
   "cell_type": "code",
   "execution_count": null,
   "metadata": {},
   "outputs": [],
   "source": [
    "# Sama seperti sebelumnya, tapi ini kolom kelasnya doang\n",
    "y = all_data['Class']\n",
    "y = x_to_array(y)\n",
    "\n",
    "# Test Length\n",
    "y.shape"
   ]
  },
  {
   "cell_type": "code",
   "execution_count": null,
   "metadata": {},
   "outputs": [],
   "source": [
    "# Masih sama, ini utuk data test\n",
    "X_test = x_to_array(test)\n",
    "X_test = normalize_data(X_test)\n",
    "\n",
    "# Test Length\n",
    "print(X_test.shape)"
   ]
  },
  {
   "cell_type": "code",
   "execution_count": null,
   "metadata": {},
   "outputs": [],
   "source": [
    "y_test = test['Class']\n",
    "y_test = x_to_array(y_test)\n",
    "\n",
    "# Test Length\n",
    "print(y_test.shape)"
   ]
  },
  {
   "cell_type": "code",
   "execution_count": null,
   "metadata": {},
   "outputs": [],
   "source": [
    "# Memisahkan data training menjadi dua bagian untuk validasi\n",
    "X_train, X_val, y_train, y_val = train_test_split( X, y, test_size=0.1, random_state=4) #Data training 90% dan validasi 10%\n",
    "\n",
    "# Test Length\n",
    "print ('Train set:', X_train.shape,  y_train.shape)\n",
    "print ('Val set:', X_val.shape,  y_val.shape)"
   ]
  },
  {
   "cell_type": "code",
   "execution_count": null,
   "metadata": {},
   "outputs": [],
   "source": [
    "svclassifier = SVC(kernel = 'rbf', gamma = 'auto')\n",
    "svclassifier.fit(X_train, y_train)"
   ]
  },
  {
   "cell_type": "code",
   "execution_count": null,
   "metadata": {},
   "outputs": [],
   "source": [
    "%%time\n",
    "# Decision Tree Classifier\n",
    "#---------------------------------\n",
    "# Biar gak nyakitin mata atas warning yang tidak perlu\n",
    "#---------------------------------\n",
    "import warnings\n",
    "warnings.filterwarnings('ignore')\n",
    "#---------------------------------\n",
    "# Jumlah pohon (i = awal, n = akhir)\n",
    "i = int(1)\n",
    "j = int(1)\n",
    "n = int(11)\n",
    "k = int(11)\n",
    "konstanta = 1\n",
    "\n",
    "#Membuat array (Biar gak error di akhiran)\n",
    "dtc_score = np.empty((n, konstanta))\n",
    "dtc_score_test = np.empty((n, konstanta))\n",
    "b_error = np.empty((k, n))\n",
    "b_error_test = np.empty((k, n))\n",
    "\n",
    "# Training dan Validasi\n",
    "while i < n:\n",
    "    j = konstanta\n",
    "    while j < k:\n",
    "        dtclassifier = DecisionTreeClassifier(max_depth = i)           \n",
    "        dtclassifier.fit(X_train, y_train)                             #Memasukkan data training ke dalam dtc\n",
    "        y_dtc_pred_val = dtclassifier.predict(X_val)                   #Melakukan prediksi data validasi oleh dtc\n",
    "        cm_dtc_val = confusion_matrix(y_val, y_dtc_pred_val)           #Membuat matriks kekalutan data validasi dtc\n",
    "        cr_dtc_val = classification_report(y_val, y_dtc_pred_val)      #Membuat laporan klasifikasi yang telah dilakukan dtc\n",
    "        dtc_score[i, :] = int(dtclassifier.score(X_val, y_val) * 100)\n",
    "        #print(\"Akurasi Data Validasi dtc\" + str(i) + \": {}%\".format(int(dtc_score[i])))      #Cetak dalam bentuk persentase\n",
    "\n",
    "        # Test\n",
    "        y_dtc_pred_test = dtclassifier.predict(X_test)                   #Melakukan prediksi data tes oleh dtc\n",
    "        cm_dtc_test = confusion_matrix(y_test, y_dtc_pred_test)           #Membuat matriks kekalutan data tes dtc\n",
    "        cr_dtc_test = classification_report(y_test, y_dtc_pred_test)      #Membuat laporan klasifikasi yang telah dilakukan dtc\n",
    "        dtc_score_test[i, :] = int(dtclassifier.score(X_test, y_test) * 100)\n",
    "        #print(\"Akurasi Data Test dtc\" + str(i) + \": {}%\".format(int(dtc_score_test[i])))      #Cetak dalam bentuk persentase\n",
    "        b_error[j, i] = dtc_score[i]\n",
    "        b_error_test[j,i] = dtc_score_test[i]\n",
    "        #print(b_error[j,i])\n",
    "        j += konstanta\n",
    "    i += konstanta\n",
    "    \n",
    "#Figure 1 Grafik validasi\n",
    "plt.figure()\n",
    "x = np.arange(konstanta, n-1)\n",
    "y1 = dtc_score[np.arange(konstanta, n-1)]\n",
    "y2 = dtc_score_test[np.arange(konstanta, n-1)]\n",
    "e1 = np.empty((n, konstanta))\n",
    "e2 = np.empty((n, konstanta))\n",
    "index1 = konstanta\n",
    "index2 = n\n",
    "while index1 < index2:\n",
    "    e1[index1] = np.std(b_error[np.arange(konstanta,n),index1])\n",
    "    e2[index1] = np.std(b_error_test[np.arange(konstanta,n),index1])\n",
    "    index1 += konstanta\n",
    "    \n",
    "print(\"Akurasi Data Validasi dtc: {}%\".format(y1))\n",
    "print(\"Error Validasi: {}%\".format(e1[x]))\n",
    "plt.axis([0, 11, 0, 110])\n",
    "plt.errorbar(x, y1, e1[x], color='green', marker='^')\n",
    "#plt.errorbar(x, y2, e2[x], color='red', marker='^', linestyle='None')\n",
    "plt.xlabel('Jumlah Cabang')\n",
    "plt.ylabel('Akurasi')\n",
    "plt.title('Akurasi Data Validasi dan Test DTC Terhadap Jumlah Cabang')\n",
    "plt.grid()\n",
    "plt.show()\n",
    "\n",
    "plt.figure()\n",
    "x = np.arange(konstanta, n-1)\n",
    "y1 = dtc_score[np.arange(konstanta, n-1)]\n",
    "y2 = dtc_score_test[np.arange(konstanta, n-1)]\n",
    "e1 = np.empty((n, konstanta))\n",
    "e2 = np.empty((n, konstanta))\n",
    "index1 = konstanta\n",
    "index2 = n\n",
    "while index1 < index2:\n",
    "    e1[index1] = np.std(b_error[np.arange(konstanta,n),index1])\n",
    "    e2[index1] = np.std(b_error_test[np.arange(konstanta,n),index1])\n",
    "    index1 += konstanta\n",
    "\n",
    "print(\"Akurasi Data Test dtc: {}%\".format(y2))      #Cetak dalam bentuk persentase\n",
    "print(\"Error Test: {}%\".format(e2[x]))\n",
    "plt.axis([0, 11, 0, 110])\n",
    "\n",
    "plt.errorbar(x, y2, e2[x], color='red', marker='^')\n",
    "plt.xlabel('Jumlah Cabang')\n",
    "plt.ylabel('Akurasi')\n",
    "plt.title('Akurasi Data Validasi dan Test DTC Terhadap Jumlah Cabang')\n",
    "plt.grid()\n",
    "plt.show()"
   ]
  },
  {
   "cell_type": "code",
   "execution_count": null,
   "metadata": {},
   "outputs": [],
   "source": [
    "# Confusion matrix (kekalutan) hanya membaca data terakhir saja, respectively\n",
    "plot_confusion_matrix(cm_dtc_test, classes = classes)\n",
    "print(\"DATA TEST DTC\")\n",
    "print(cr_dtc_test)"
   ]
  }
 ],
 "metadata": {
  "kernelspec": {
   "display_name": "Python 3",
   "language": "python",
   "name": "python3"
  },
  "language_info": {
   "codemirror_mode": {
    "name": "ipython",
    "version": 3
   },
   "file_extension": ".py",
   "mimetype": "text/x-python",
   "name": "python",
   "nbconvert_exporter": "python",
   "pygments_lexer": "ipython3",
   "version": "3.7.3"
  }
 },
 "nbformat": 4,
 "nbformat_minor": 2
}
